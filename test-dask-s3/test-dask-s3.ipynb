{
 "cells": [
  {
   "cell_type": "markdown",
   "id": "2be661bc",
   "metadata": {
    "pycharm": {
     "name": "#%% md\n"
    }
   },
   "source": [
    "# Loading And Storing Data From And Into S3 With And Without Dask\n",
    "\n",
    "This test generates a big random data, uploading it to S3 and then processing it with and without Dask. Later it will verify that:\n",
    "\n",
    "* The data was handled properly and results were equal.\n",
    "* The stored dataset artifact in S3 is loadable and equal.\n",
    "* The dask run was faster (only possible on big data). "
   ]
  },
  {
   "cell_type": "markdown",
   "id": "8efd2c00",
   "metadata": {
    "pycharm": {
     "name": "#%% md\n"
    }
   },
   "source": [
    "## General Configurations"
   ]
  },
  {
   "cell_type": "code",
   "execution_count": 1,
   "id": "1452ea19",
   "metadata": {
    "pycharm": {
     "name": "#%%\n"
    }
   },
   "outputs": [],
   "source": [
    "import os\n",
    "import shutil\n",
    "import sys\n",
    "\n",
    "sys.path.append(os.path.abspath(\"../\"))\n",
    "\n",
    "from utils import S3Client\n",
    "\n",
    "# AWS Credentials:\n",
    "AWS_ACCESS_KEY_ID = os.environ.get(\"AWS_ACCESS_KEY_ID\", \"\")\n",
    "AWS_SECRET_ACCESS_KEY = os.environ.get(\"AWS_SECRET_ACCESS_KEY\", \"\")\n",
    "assert AWS_ACCESS_KEY_ID != \"\" and AWS_SECRET_ACCESS_KEY != \"\" \n",
    "os.environ[\"AWS_ACCESS_KEY_ID\"] = AWS_ACCESS_KEY_ID\n",
    "os.environ[\"AWS_SECRET_ACCESS_KEY\"] = AWS_SECRET_ACCESS_KEY\n",
    "\n",
    "# Path to store the generated data:\n",
    "LOCAL_DATA_PATH = \"./data\"\n",
    "S3_BUCKET = os.environ.get(\"S3_BUCKET\", \"testbucket-igz-temp\")\n",
    "S3_PROJECT_DIRECTORY = \"test-dask-s3\"\n",
    "S3_DATA_PATH = os.path.join(S3_PROJECT_DIRECTORY, \"data\")\n",
    "\n",
    "# Number of samples of generated data (number of rows in the data table):\n",
    "N_SAMPLES = 10_000\n",
    "\n",
    "# Number of features of the generated data (number of columns in the data table):\n",
    "N_FEATURES = 10\n",
    "\n",
    "# The amount of parquet partitions to have of the generated data:\n",
    "N_PARTITIONS = 10"
   ]
  },
  {
   "cell_type": "markdown",
   "id": "3e7c1683",
   "metadata": {
    "pycharm": {
     "name": "#%% md\n"
    }
   },
   "source": [
    "## 1. Generate Data:\n",
    "\n",
    "1. Generate random data.\n",
    "2. Turn the data into a `pandas.DataFrame` naming the columns `features_{i}` and adding the partioting column (year)."
   ]
  },
  {
   "cell_type": "code",
   "execution_count": 2,
   "id": "e9e7cbb3",
   "metadata": {
    "pycharm": {
     "name": "#%%\n"
    }
   },
   "outputs": [],
   "source": [
    "import numpy as np\n",
    "import pandas as pd\n",
    "\n",
    "\n",
    "def generate_data(\n",
    "    output_path: str,\n",
    "    n_samples: int, \n",
    "    n_features: int, \n",
    "    n_partitions: int,\n",
    "):\n",
    "    # Generate data:\n",
    "    data = np.random.random(size=(n_samples, n_features))\n",
    "    \n",
    "    # Create a dataframe:\n",
    "    data = pd.DataFrame(\n",
    "        data=data, \n",
    "        columns=[f\"feature_{i}\" for i in range(n_features)]\n",
    "    )\n",
    "    data[\"year\"] = np.random.randint(2000, 2000 + n_partitions, size=n_samples)\n",
    "    \n",
    "    # Save to parquets:\n",
    "    data.to_parquet(output_path, partition_cols=[\"year\"])"
   ]
  },
  {
   "cell_type": "markdown",
   "id": "e32edad0",
   "metadata": {
    "pycharm": {
     "name": "#%% md\n"
    }
   },
   "source": [
    "Generate the data (will require writing permissions to the local directory and of course to S3)."
   ]
  },
  {
   "cell_type": "code",
   "execution_count": 3,
   "id": "2caa4c9d",
   "metadata": {
    "pycharm": {
     "name": "#%%\n"
    }
   },
   "outputs": [],
   "source": [
    "# Delete past generated data (in case there was a past failure):\n",
    "if os.path.exists(LOCAL_DATA_PATH):\n",
    "    shutil.rmtree(os.path.abspath(LOCAL_DATA_PATH))\n",
    "\n",
    "# Generate new data:\n",
    "generate_data(\n",
    "    output_path=LOCAL_DATA_PATH,\n",
    "    n_samples=N_SAMPLES, \n",
    "    n_features=N_FEATURES, \n",
    "    n_partitions=N_PARTITIONS,\n",
    ")"
   ]
  },
  {
   "cell_type": "code",
   "execution_count": 4,
   "id": "006be4c4",
   "metadata": {
    "pycharm": {
     "name": "#%%\n"
    }
   },
   "outputs": [
    {
     "data": {
      "application/vnd.jupyter.widget-view+json": {
       "model_id": "0c4f67a4dd654246aa409f8c83c41953",
       "version_major": 2,
       "version_minor": 0
      },
      "text/plain": [
       "Uploading:   0%|          | 0/10 [00:00<?, ?it/s]"
      ]
     },
     "metadata": {},
     "output_type": "display_data"
    },
    {
     "name": "stdout",
     "output_type": "stream",
     "text": [
      "Uploading './data/year=2000/c3d2bcb360f643fbb04d072c6116c477.parquet' to test-dask-s3/data/year=2000/c3d2bcb360f643fbb04d072c6116c477.parquet\n",
      "Uploading './data/year=2001/b20e7a8fcb2849d98dca1770cbee75cc.parquet' to test-dask-s3/data/year=2001/b20e7a8fcb2849d98dca1770cbee75cc.parquet\n",
      "Uploading './data/year=2002/99ebbe2e64fd4ba2b6f29ca6cb0117ed.parquet' to test-dask-s3/data/year=2002/99ebbe2e64fd4ba2b6f29ca6cb0117ed.parquet\n",
      "Uploading './data/year=2003/fdab28f8921548a9aa25cea2b6b3599a.parquet' to test-dask-s3/data/year=2003/fdab28f8921548a9aa25cea2b6b3599a.parquet\n",
      "Uploading './data/year=2004/539d16ae17904315a23f4794be3669a6.parquet' to test-dask-s3/data/year=2004/539d16ae17904315a23f4794be3669a6.parquet\n",
      "Uploading './data/year=2005/f9f1ee96b1e04c78b6877bbd6f24f482.parquet' to test-dask-s3/data/year=2005/f9f1ee96b1e04c78b6877bbd6f24f482.parquet\n",
      "Uploading './data/year=2006/7349725c0b114a6c8ba12b0c9399d52a.parquet' to test-dask-s3/data/year=2006/7349725c0b114a6c8ba12b0c9399d52a.parquet\n",
      "Uploading './data/year=2007/b1e1fd12bb6248c3b1ffa39af4e45237.parquet' to test-dask-s3/data/year=2007/b1e1fd12bb6248c3b1ffa39af4e45237.parquet\n",
      "Uploading './data/year=2008/29ff8d0aa94b40c28f3b61490d4a0526.parquet' to test-dask-s3/data/year=2008/29ff8d0aa94b40c28f3b61490d4a0526.parquet\n",
      "Uploading './data/year=2009/0d4d67f1d4994a96ad8318263bef69c2.parquet' to test-dask-s3/data/year=2009/0d4d67f1d4994a96ad8318263bef69c2.parquet\n",
      "Done!\n"
     ]
    }
   ],
   "source": [
    "# Create the S3 client:\n",
    "s3_client = S3Client(\n",
    "    aws_access_key_id=AWS_ACCESS_KEY_ID,\n",
    "    aws_secret_access_key=AWS_SECRET_ACCESS_KEY,\n",
    ")\n",
    "\n",
    "# Delete the project and data in S3 (in case there was a past failure):\n",
    "try:\n",
    "    s3_client.delete(\n",
    "        bucket=S3_BUCKET,\n",
    "        s3_path=S3_PROJECT_DIRECTORY,\n",
    "    )\n",
    "except FileNotFoundError:\n",
    "    pass\n",
    "\n",
    "# Upload it to S3:\n",
    "s3_client.upload(\n",
    "    bucket=S3_BUCKET,\n",
    "    local_path=LOCAL_DATA_PATH,\n",
    "    s3_path=S3_DATA_PATH,\n",
    "    replace=False,\n",
    ")"
   ]
  },
  {
   "cell_type": "code",
   "execution_count": 5,
   "id": "6abd5321",
   "metadata": {
    "pycharm": {
     "name": "#%%\n"
    }
   },
   "outputs": [],
   "source": [
    "# Delete new generated data (data will be loaded from S3):\n",
    "shutil.rmtree(os.path.abspath(LOCAL_DATA_PATH))"
   ]
  },
  {
   "cell_type": "markdown",
   "id": "20bb587f",
   "metadata": {
    "pycharm": {
     "name": "#%% md\n"
    }
   },
   "source": [
    "## 2. Data Processing Code\n",
    "\n",
    "1. Read the data into a pandas (dask) `DataFrame` using MLRun's `DataItem.as_df`'s method.\n",
    "2. Do some calculations.\n",
    "\n",
    "The calculations are accumulated into a single value that will be logged as a result along a single column of data (means in this case) to be stored in S3."
   ]
  },
  {
   "cell_type": "code",
   "execution_count": 6,
   "id": "d87687dc",
   "metadata": {
    "pycharm": {
     "name": "#%%\n"
    }
   },
   "outputs": [],
   "source": [
    "# mlrun: start-code"
   ]
  },
  {
   "cell_type": "code",
   "execution_count": 7,
   "id": "4f5a389a",
   "metadata": {
    "pycharm": {
     "name": "#%%\n"
    }
   },
   "outputs": [],
   "source": [
    "import time\n",
    "import pandas as pd\n",
    "import dask\n",
    "import mlrun\n",
    "\n",
    "\n",
    "@mlrun.handler(outputs=[\"time\", \"result\", \"means\"])\n",
    "def process_data(context: mlrun.MLClientCtx, data_path: mlrun.DataItem):\n",
    "    # Start the timer:\n",
    "    run_time = time.time()\n",
    "    \n",
    "    # Check for a dask client:\n",
    "    dask_function = context.get_param(\"dask_function\", None)\n",
    "    dask_client = mlrun.import_function(dask_function).client if dask_function else None\n",
    "    \n",
    "    # Get the data:\n",
    "    data = data_path.as_df(\n",
    "        df_module=dask.dataframe if dask_client else pd,\n",
    "        format=\"parquet\"\n",
    "    )\n",
    "    \n",
    "    # Do some random calculations:\n",
    "    if dask_client:\n",
    "        data = dask_client.persist(data)\n",
    "    sum_value = data.sum()\n",
    "    mean_value = data.mean()\n",
    "    var_value = data.var()\n",
    "    if dask_client:\n",
    "        sum_value = dask.delayed(sum)(sum_value)\n",
    "        mean_value = dask.delayed(sum)(mean_value)\n",
    "        var_value = dask.delayed(sum)(var_value)\n",
    "    else:\n",
    "        sum_value = sum(sum_value)\n",
    "        mean_value = sum(mean_value)\n",
    "        var_value = sum(var_value)\n",
    "    result = sum_value + mean_value + var_value\n",
    "    means = data.mean()\n",
    "    for column in data.columns:\n",
    "        means = means + means * means\n",
    "    if dask_client:\n",
    "        result = result.compute()\n",
    "        means = means.compute()\n",
    "    \n",
    "    # Log the values:\n",
    "    run_time = time.time() - run_time\n",
    "    return run_time, result, means"
   ]
  },
  {
   "cell_type": "code",
   "execution_count": 8,
   "id": "40989203",
   "metadata": {
    "pycharm": {
     "name": "#%%\n"
    }
   },
   "outputs": [],
   "source": [
    "# mlrun: end-code"
   ]
  },
  {
   "cell_type": "markdown",
   "id": "59fe7c82",
   "metadata": {
    "pycharm": {
     "name": "#%% md\n"
    }
   },
   "source": [
    "## 3. Create a Project\n",
    "\n",
    "1. Create the MLRun project.\n",
    "2. Create an MLRun function of the processing code."
   ]
  },
  {
   "cell_type": "code",
   "execution_count": 9,
   "id": "a953ae54",
   "metadata": {
    "pycharm": {
     "name": "#%%\n"
    }
   },
   "outputs": [],
   "source": [
    "import os\n",
    "import shutil\n",
    "import time\n",
    "\n",
    "import mlrun"
   ]
  },
  {
   "cell_type": "code",
   "execution_count": 10,
   "id": "f4d0e62a",
   "metadata": {
    "pycharm": {
     "name": "#%%\n"
    }
   },
   "outputs": [
    {
     "name": "stdout",
     "output_type": "stream",
     "text": [
      "> 2022-12-23 15:11:19,767 [info] loaded project test-dask-s3 from MLRun DB\n"
     ]
    }
   ],
   "source": [
    "# Create the project:\n",
    "project = mlrun.get_or_create_project(name=S3_PROJECT_DIRECTORY, context=\"./\", user_project=False)\n",
    "\n",
    "# Add the S3 credentials:\n",
    "project.set_secrets(\n",
    "    secrets={\n",
    "        \"AWS_ACCESS_KEY_ID\": AWS_ACCESS_KEY_ID,\n",
    "        \"AWS_SECRET_ACCESS_KEY\": AWS_SECRET_ACCESS_KEY,\n",
    "    }\n",
    ")"
   ]
  },
  {
   "cell_type": "code",
   "execution_count": 11,
   "id": "55902f92",
   "metadata": {
    "pycharm": {
     "name": "#%%\n"
    }
   },
   "outputs": [],
   "source": [
    "# Create the training function:\n",
    "process_data_function = project.set_function(name=\"process_data\", kind=\"job\", image=\"mlrun/mlrun\", handler=\"process_data\")"
   ]
  },
  {
   "cell_type": "markdown",
   "id": "7a0ffa48",
   "metadata": {
    "pycharm": {
     "name": "#%% md\n"
    }
   },
   "source": [
    "## 4. Run Without Dask\n",
    "\n",
    "Run the processing without Dask and store the results."
   ]
  },
  {
   "cell_type": "code",
   "execution_count": 12,
   "id": "9f670f35",
   "metadata": {
    "pycharm": {
     "name": "#%%\n"
    }
   },
   "outputs": [
    {
     "name": "stdout",
     "output_type": "stream",
     "text": [
      "> 2022-12-23 15:11:26,731 [info] starting run without_dask uid=d46fc266409142bdbab51db7950e4538 DB=http://mlrun-api:8080\n",
      "> 2022-12-23 15:11:26,939 [info] Job is running in the background, pod: without-dask-srhpm\n",
      "> 2022-12-23 15:11:48,159 [info] To track results use the CLI: {'info_cmd': 'mlrun get run d46fc266409142bdbab51db7950e4538 -p test-dask-s3', 'logs_cmd': 'mlrun logs d46fc266409142bdbab51db7950e4538 -p test-dask-s3'}\n",
      "> 2022-12-23 15:11:48,159 [info] Or click for UI: {'ui_url': 'https://dashboard.default-tenant.app.dev6.lab.iguazeng.com/mlprojects/test-dask-s3/jobs/monitor/d46fc266409142bdbab51db7950e4538/overview'}\n",
      "> 2022-12-23 15:11:48,159 [info] run executed, status=completed\n",
      "final state: completed\n"
     ]
    },
    {
     "data": {
      "text/html": [
       "<style>\n",
       ".dictlist {\n",
       "  background-color: #4EC64B;\n",
       "  text-align: center;\n",
       "  margin: 4px;\n",
       "  border-radius: 3px; padding: 0px 3px 1px 3px; display: inline-block;}\n",
       ".artifact {\n",
       "  cursor: pointer;\n",
       "  background-color: #4EC64B;\n",
       "  text-align: left;\n",
       "  margin: 4px; border-radius: 3px; padding: 0px 3px 1px 3px; display: inline-block;\n",
       "}\n",
       "div.block.hidden {\n",
       "  display: none;\n",
       "}\n",
       ".clickable {\n",
       "  cursor: pointer;\n",
       "}\n",
       ".ellipsis {\n",
       "  display: inline-block;\n",
       "  max-width: 60px;\n",
       "  white-space: nowrap;\n",
       "  overflow: hidden;\n",
       "  text-overflow: ellipsis;\n",
       "}\n",
       ".master-wrapper {\n",
       "  display: flex;\n",
       "  flex-flow: row nowrap;\n",
       "  justify-content: flex-start;\n",
       "  align-items: stretch;\n",
       "}\n",
       ".master-tbl {\n",
       "  flex: 3\n",
       "}\n",
       ".master-wrapper > div {\n",
       "  margin: 4px;\n",
       "  padding: 10px;\n",
       "}\n",
       "iframe.fileview {\n",
       "  border: 0 none;\n",
       "  height: 100%;\n",
       "  width: 100%;\n",
       "  white-space: pre-wrap;\n",
       "}\n",
       ".pane-header-title {\n",
       "  width: 80%;\n",
       "  font-weight: 500;\n",
       "}\n",
       ".pane-header {\n",
       "  line-height: 1;\n",
       "  background-color: #4EC64B;\n",
       "  padding: 3px;\n",
       "}\n",
       ".pane-header .close {\n",
       "  font-size: 20px;\n",
       "  font-weight: 700;\n",
       "  float: right;\n",
       "  margin-top: -5px;\n",
       "}\n",
       ".master-wrapper .right-pane {\n",
       "  border: 1px inset silver;\n",
       "  width: 40%;\n",
       "  min-height: 300px;\n",
       "  flex: 3\n",
       "  min-width: 500px;\n",
       "}\n",
       ".master-wrapper * {\n",
       "  box-sizing: border-box;\n",
       "}\n",
       "</style><script>\n",
       "function copyToClipboard(fld) {\n",
       "    if (document.queryCommandSupported && document.queryCommandSupported('copy')) {\n",
       "        var textarea = document.createElement('textarea');\n",
       "        textarea.textContent = fld.innerHTML;\n",
       "        textarea.style.position = 'fixed';\n",
       "        document.body.appendChild(textarea);\n",
       "        textarea.select();\n",
       "\n",
       "        try {\n",
       "            return document.execCommand('copy'); // Security exception may be thrown by some browsers.\n",
       "        } catch (ex) {\n",
       "\n",
       "        } finally {\n",
       "            document.body.removeChild(textarea);\n",
       "        }\n",
       "    }\n",
       "}\n",
       "function expandPanel(el) {\n",
       "  const panelName = \"#\" + el.getAttribute('paneName');\n",
       "  console.log(el.title);\n",
       "\n",
       "  document.querySelector(panelName + \"-title\").innerHTML = el.title\n",
       "  iframe = document.querySelector(panelName + \"-body\");\n",
       "\n",
       "  const tblcss = `<style> body { font-family: Arial, Helvetica, sans-serif;}\n",
       "    #csv { margin-bottom: 15px; }\n",
       "    #csv table { border-collapse: collapse;}\n",
       "    #csv table td { padding: 4px 8px; border: 1px solid silver;} </style>`;\n",
       "\n",
       "  function csvToHtmlTable(str) {\n",
       "    return '<div id=\"csv\"><table><tr><td>' +  str.replace(/[\\n\\r]+$/g, '').replace(/[\\n\\r]+/g, '</td></tr><tr><td>')\n",
       "      .replace(/,/g, '</td><td>') + '</td></tr></table></div>';\n",
       "  }\n",
       "\n",
       "  function reqListener () {\n",
       "    if (el.title.endsWith(\".csv\")) {\n",
       "      iframe.setAttribute(\"srcdoc\", tblcss + csvToHtmlTable(this.responseText));\n",
       "    } else {\n",
       "      iframe.setAttribute(\"srcdoc\", this.responseText);\n",
       "    }\n",
       "    console.log(this.responseText);\n",
       "  }\n",
       "\n",
       "  const oReq = new XMLHttpRequest();\n",
       "  oReq.addEventListener(\"load\", reqListener);\n",
       "  oReq.open(\"GET\", el.title);\n",
       "  oReq.send();\n",
       "\n",
       "\n",
       "  //iframe.src = el.title;\n",
       "  const resultPane = document.querySelector(panelName + \"-pane\");\n",
       "  if (resultPane.classList.contains(\"hidden\")) {\n",
       "    resultPane.classList.remove(\"hidden\");\n",
       "  }\n",
       "}\n",
       "function closePanel(el) {\n",
       "  const panelName = \"#\" + el.getAttribute('paneName')\n",
       "  const resultPane = document.querySelector(panelName + \"-pane\");\n",
       "  if (!resultPane.classList.contains(\"hidden\")) {\n",
       "    resultPane.classList.add(\"hidden\");\n",
       "  }\n",
       "}\n",
       "\n",
       "</script>\n",
       "<div class=\"master-wrapper\">\n",
       "  <div class=\"block master-tbl\"><div>\n",
       "<style scoped>\n",
       "    .dataframe tbody tr th:only-of-type {\n",
       "        vertical-align: middle;\n",
       "    }\n",
       "\n",
       "    .dataframe tbody tr th {\n",
       "        vertical-align: top;\n",
       "    }\n",
       "\n",
       "    .dataframe thead th {\n",
       "        text-align: right;\n",
       "    }\n",
       "</style>\n",
       "<table border=\"1\" class=\"dataframe\">\n",
       "  <thead>\n",
       "    <tr style=\"text-align: right;\">\n",
       "      <th>project</th>\n",
       "      <th>uid</th>\n",
       "      <th>iter</th>\n",
       "      <th>start</th>\n",
       "      <th>state</th>\n",
       "      <th>name</th>\n",
       "      <th>labels</th>\n",
       "      <th>inputs</th>\n",
       "      <th>parameters</th>\n",
       "      <th>results</th>\n",
       "      <th>artifacts</th>\n",
       "    </tr>\n",
       "  </thead>\n",
       "  <tbody>\n",
       "    <tr>\n",
       "      <td>test-dask-s3</td>\n",
       "      <td><div title=\"d46fc266409142bdbab51db7950e4538\"><a href=\"https://dashboard.default-tenant.app.dev6.lab.iguazeng.com/mlprojects/test-dask-s3/jobs/monitor/d46fc266409142bdbab51db7950e4538/overview\" target=\"_blank\" >...950e4538</a></div></td>\n",
       "      <td>0</td>\n",
       "      <td>Dec 23 15:11:31</td>\n",
       "      <td>completed</td>\n",
       "      <td>without_dask</td>\n",
       "      <td><div class=\"dictlist\">v3io_user=guyl</div><div class=\"dictlist\">kind=job</div><div class=\"dictlist\">owner=guyl</div><div class=\"dictlist\">mlrun/client_version=1.2.1-rc4</div><div class=\"dictlist\">host=without-dask-srhpm</div></td>\n",
       "      <td><div title=\"s3://testbucket-igz-temp/test-dask-s3/data/\">data_path</div></td>\n",
       "      <td><div class=\"dictlist\">dask_function=None</div></td>\n",
       "      <td><div class=\"dictlist\">time=12.91029977798462</div><div class=\"dictlist\">result=50062.27446583847</div></td>\n",
       "      <td><div title=\"s3://testbucket-igz-temp/test-dask-s3/without_dask/0/means.parquet\">means</div></td>\n",
       "    </tr>\n",
       "  </tbody>\n",
       "</table>\n",
       "</div></div>\n",
       "  <div id=\"resultea5df276-pane\" class=\"right-pane block hidden\">\n",
       "    <div class=\"pane-header\">\n",
       "      <span id=\"resultea5df276-title\" class=\"pane-header-title\">Title</span>\n",
       "      <span onclick=\"closePanel(this)\" paneName=\"resultea5df276\" class=\"close clickable\">&times;</span>\n",
       "    </div>\n",
       "    <iframe class=\"fileview\" id=\"resultea5df276-body\"></iframe>\n",
       "  </div>\n",
       "</div>\n"
      ],
      "text/plain": [
       "<IPython.core.display.HTML object>"
      ]
     },
     "metadata": {},
     "output_type": "display_data"
    },
    {
     "name": "stdout",
     "output_type": "stream",
     "text": [
      "\n"
     ]
    },
    {
     "data": {
      "text/html": [
       "<b> > to track results use the .show() or .logs() methods  or <a href=\"https://dashboard.default-tenant.app.dev6.lab.iguazeng.com/mlprojects/test-dask-s3/jobs/monitor/d46fc266409142bdbab51db7950e4538/overview\" target=\"_blank\">click here</a> to open in UI</b>"
      ],
      "text/plain": [
       "<IPython.core.display.HTML object>"
      ]
     },
     "metadata": {},
     "output_type": "display_data"
    },
    {
     "name": "stdout",
     "output_type": "stream",
     "text": [
      "> 2022-12-23 15:11:56,617 [info] run executed, status=completed\n"
     ]
    }
   ],
   "source": [
    "# Run without dask:\n",
    "without_dask_run = process_data_function.run(\n",
    "    name=\"without_dask\",\n",
    "    inputs={\n",
    "        \"data_path\": f\"s3://{S3_BUCKET}/{S3_PROJECT_DIRECTORY}/data/\",\n",
    "    },\n",
    "    artifact_path=f\"s3://{S3_BUCKET}/{S3_PROJECT_DIRECTORY}\",\n",
    ")\n",
    "\n",
    "# Store results:\n",
    "without_dask_time = without_dask_run.status.results['time']\n",
    "without_dask_result = without_dask_run.status.results['result']\n",
    "without_dask_means = np.array(without_dask_run.artifact('means').as_df()[\"0\"])"
   ]
  },
  {
   "cell_type": "markdown",
   "id": "c3a27fcf",
   "metadata": {
    "pycharm": {
     "name": "#%% md\n"
    }
   },
   "source": [
    "## 5. Run With Dask\n",
    "\n",
    "1. Create the Dask function.\n",
    "2. Configure it.\n",
    "3. Run the data processing with Dask and store the results."
   ]
  },
  {
   "cell_type": "code",
   "execution_count": 13,
   "id": "cf129d05",
   "metadata": {
    "pycharm": {
     "name": "#%%\n"
    }
   },
   "outputs": [
    {
     "data": {
      "text/plain": [
       "'db://test-dask-s3/my-dask'"
      ]
     },
     "execution_count": 13,
     "metadata": {},
     "output_type": "execute_result"
    }
   ],
   "source": [
    "# Create the dask function:\n",
    "dask_function = mlrun.new_function(name=\"my_dask\", kind=\"dask\", image=\"mlrun/mlrun\")\n",
    "\n",
    "# Configure the dask function specs:\n",
    "dask_function.spec.remote = True\n",
    "dask_function.spec.replicas = 5\n",
    "dask_function.spec.service_type = 'NodePort'\n",
    "dask_function.with_limits(mem=\"6G\")\n",
    "dask_function.spec.nthreads = 5\n",
    "\n",
    "# Assign the function to the project:\n",
    "project.set_function(dask_function)\n",
    "\n",
    "# Save:\n",
    "dask_function.save()"
   ]
  },
  {
   "cell_type": "code",
   "execution_count": 14,
   "id": "ca5d05a1",
   "metadata": {
    "pycharm": {
     "name": "#%%\n"
    }
   },
   "outputs": [
    {
     "name": "stdout",
     "output_type": "stream",
     "text": [
      "> 2022-12-23 15:12:09,450 [info] trying dask client at: tcp://mlrun-my-dask-bbd4cbcf-3.default-tenant:8786\n",
      "> 2022-12-23 15:12:09,480 [info] using remote dask scheduler (mlrun-my-dask-bbd4cbcf-3) at: tcp://mlrun-my-dask-bbd4cbcf-3.default-tenant:8786\n"
     ]
    },
    {
     "name": "stderr",
     "output_type": "stream",
     "text": [
      "Mismatched versions found\n",
      "\n",
      "+-------------+--------+-----------+---------+\n",
      "| Package     | client | scheduler | workers |\n",
      "+-------------+--------+-----------+---------+\n",
      "| blosc       | 1.7.0  | None      | None    |\n",
      "| cloudpickle | 2.0.0  | 2.2.0     | None    |\n",
      "| lz4         | 3.1.0  | None      | None    |\n",
      "| msgpack     | 1.0.3  | 1.0.4     | None    |\n",
      "| toolz       | 0.11.2 | 0.12.0    | None    |\n",
      "| tornado     | 6.1    | 6.2       | None    |\n",
      "+-------------+--------+-----------+---------+\n",
      "Notes: \n",
      "-  msgpack: Variation is ok, as long as everything is above 0.6\n"
     ]
    },
    {
     "data": {
      "text/html": [
       "<a href=\"http://default-tenant.app.dev6.lab.iguazeng.com:31651/status\" target=\"_blank\" >dashboard link: default-tenant.app.dev6.lab.iguazeng.com:31651</a>"
      ],
      "text/plain": [
       "<IPython.core.display.HTML object>"
      ]
     },
     "metadata": {},
     "output_type": "display_data"
    },
    {
     "data": {
      "text/html": [
       "<div>\n",
       "    <div style=\"width: 24px; height: 24px; background-color: #e1e1e1; border: 3px solid #9D9D9D; border-radius: 5px; position: absolute;\"> </div>\n",
       "    <div style=\"margin-left: 48px;\">\n",
       "        <h3 style=\"margin-bottom: 0px;\">Client</h3>\n",
       "        <p style=\"color: #9D9D9D; margin-bottom: 0px;\">Client-2b9c158a-82d4-11ed-b2cf-65c74cc60792</p>\n",
       "        <table style=\"width: 100%; text-align: left;\">\n",
       "\n",
       "        <tr>\n",
       "        \n",
       "            <td style=\"text-align: left;\"><strong>Connection method:</strong> Direct</td>\n",
       "            <td style=\"text-align: left;\"></td>\n",
       "        \n",
       "        </tr>\n",
       "\n",
       "        \n",
       "            <tr>\n",
       "                <td style=\"text-align: left;\">\n",
       "                    <strong>Dashboard: </strong> <a href=\"http://mlrun-my-dask-bbd4cbcf-3.default-tenant:8787/status\" target=\"_blank\">http://mlrun-my-dask-bbd4cbcf-3.default-tenant:8787/status</a>\n",
       "                </td>\n",
       "                <td style=\"text-align: left;\"></td>\n",
       "            </tr>\n",
       "        \n",
       "\n",
       "        </table>\n",
       "\n",
       "        \n",
       "            <details>\n",
       "            <summary style=\"margin-bottom: 20px;\"><h3 style=\"display: inline;\">Scheduler Info</h3></summary>\n",
       "            <div style=\"\">\n",
       "    <div>\n",
       "        <div style=\"width: 24px; height: 24px; background-color: #FFF7E5; border: 3px solid #FF6132; border-radius: 5px; position: absolute;\"> </div>\n",
       "        <div style=\"margin-left: 48px;\">\n",
       "            <h3 style=\"margin-bottom: 0px;\">Scheduler</h3>\n",
       "            <p style=\"color: #9D9D9D; margin-bottom: 0px;\">Scheduler-8e23ef4c-1486-4070-b364-fa3dcfe084df</p>\n",
       "            <table style=\"width: 100%; text-align: left;\">\n",
       "                <tr>\n",
       "                    <td style=\"text-align: left;\">\n",
       "                        <strong>Comm:</strong> tcp://10.201.96.230:8786\n",
       "                    </td>\n",
       "                    <td style=\"text-align: left;\">\n",
       "                        <strong>Workers:</strong> 0\n",
       "                    </td>\n",
       "                </tr>\n",
       "                <tr>\n",
       "                    <td style=\"text-align: left;\">\n",
       "                        <strong>Dashboard:</strong> <a href=\"http://10.201.96.230:8787/status\" target=\"_blank\">http://10.201.96.230:8787/status</a>\n",
       "                    </td>\n",
       "                    <td style=\"text-align: left;\">\n",
       "                        <strong>Total threads:</strong> 0\n",
       "                    </td>\n",
       "                </tr>\n",
       "                <tr>\n",
       "                    <td style=\"text-align: left;\">\n",
       "                        <strong>Started:</strong> Just now\n",
       "                    </td>\n",
       "                    <td style=\"text-align: left;\">\n",
       "                        <strong>Total memory:</strong> 0 B\n",
       "                    </td>\n",
       "                </tr>\n",
       "            </table>\n",
       "        </div>\n",
       "    </div>\n",
       "\n",
       "    <details style=\"margin-left: 48px;\">\n",
       "        <summary style=\"margin-bottom: 20px;\">\n",
       "            <h3 style=\"display: inline;\">Workers</h3>\n",
       "        </summary>\n",
       "\n",
       "        \n",
       "\n",
       "    </details>\n",
       "</div>\n",
       "            </details>\n",
       "        \n",
       "\n",
       "    </div>\n",
       "</div>"
      ],
      "text/plain": [
       "<Client: 'tcp://10.201.96.230:8786' processes=0 threads=0, memory=0 B>"
      ]
     },
     "execution_count": 14,
     "metadata": {},
     "output_type": "execute_result"
    }
   ],
   "source": [
    "# Get the dask client:\n",
    "dask_function.client"
   ]
  },
  {
   "cell_type": "code",
   "execution_count": 15,
   "id": "b4a95b01",
   "metadata": {
    "pycharm": {
     "name": "#%%\n"
    }
   },
   "outputs": [
    {
     "name": "stdout",
     "output_type": "stream",
     "text": [
      "> 2022-12-23 15:12:09,535 [info] starting run with_dask uid=d54bd286ea084c738263a8b0e32bb473 DB=http://mlrun-api:8080\n",
      "> 2022-12-23 15:12:09,911 [info] Job is running in the background, pod: with-dask-b99wb\n",
      "> 2022-12-23 15:12:16,631 [info] trying dask client at: tcp://mlrun-my-dask-bbd4cbcf-3.default-tenant:8786\n",
      "> 2022-12-23 15:12:16,641 [info] using remote dask scheduler (mlrun-my-dask-bbd4cbcf-3) at: tcp://mlrun-my-dask-bbd4cbcf-3.default-tenant:8786\n",
      "remote dashboard: default-tenant.app.dev6.lab.iguazeng.com:31651\n",
      "> 2022-12-23 15:12:31,614 [info] To track results use the CLI: {'info_cmd': 'mlrun get run d54bd286ea084c738263a8b0e32bb473 -p test-dask-s3', 'logs_cmd': 'mlrun logs d54bd286ea084c738263a8b0e32bb473 -p test-dask-s3'}\n",
      "> 2022-12-23 15:12:31,614 [info] Or click for UI: {'ui_url': 'https://dashboard.default-tenant.app.dev6.lab.iguazeng.com/mlprojects/test-dask-s3/jobs/monitor/d54bd286ea084c738263a8b0e32bb473/overview'}\n",
      "> 2022-12-23 15:12:31,615 [info] run executed, status=completed\n",
      "final state: completed\n"
     ]
    },
    {
     "data": {
      "text/html": [
       "<style>\n",
       ".dictlist {\n",
       "  background-color: #4EC64B;\n",
       "  text-align: center;\n",
       "  margin: 4px;\n",
       "  border-radius: 3px; padding: 0px 3px 1px 3px; display: inline-block;}\n",
       ".artifact {\n",
       "  cursor: pointer;\n",
       "  background-color: #4EC64B;\n",
       "  text-align: left;\n",
       "  margin: 4px; border-radius: 3px; padding: 0px 3px 1px 3px; display: inline-block;\n",
       "}\n",
       "div.block.hidden {\n",
       "  display: none;\n",
       "}\n",
       ".clickable {\n",
       "  cursor: pointer;\n",
       "}\n",
       ".ellipsis {\n",
       "  display: inline-block;\n",
       "  max-width: 60px;\n",
       "  white-space: nowrap;\n",
       "  overflow: hidden;\n",
       "  text-overflow: ellipsis;\n",
       "}\n",
       ".master-wrapper {\n",
       "  display: flex;\n",
       "  flex-flow: row nowrap;\n",
       "  justify-content: flex-start;\n",
       "  align-items: stretch;\n",
       "}\n",
       ".master-tbl {\n",
       "  flex: 3\n",
       "}\n",
       ".master-wrapper > div {\n",
       "  margin: 4px;\n",
       "  padding: 10px;\n",
       "}\n",
       "iframe.fileview {\n",
       "  border: 0 none;\n",
       "  height: 100%;\n",
       "  width: 100%;\n",
       "  white-space: pre-wrap;\n",
       "}\n",
       ".pane-header-title {\n",
       "  width: 80%;\n",
       "  font-weight: 500;\n",
       "}\n",
       ".pane-header {\n",
       "  line-height: 1;\n",
       "  background-color: #4EC64B;\n",
       "  padding: 3px;\n",
       "}\n",
       ".pane-header .close {\n",
       "  font-size: 20px;\n",
       "  font-weight: 700;\n",
       "  float: right;\n",
       "  margin-top: -5px;\n",
       "}\n",
       ".master-wrapper .right-pane {\n",
       "  border: 1px inset silver;\n",
       "  width: 40%;\n",
       "  min-height: 300px;\n",
       "  flex: 3\n",
       "  min-width: 500px;\n",
       "}\n",
       ".master-wrapper * {\n",
       "  box-sizing: border-box;\n",
       "}\n",
       "</style><script>\n",
       "function copyToClipboard(fld) {\n",
       "    if (document.queryCommandSupported && document.queryCommandSupported('copy')) {\n",
       "        var textarea = document.createElement('textarea');\n",
       "        textarea.textContent = fld.innerHTML;\n",
       "        textarea.style.position = 'fixed';\n",
       "        document.body.appendChild(textarea);\n",
       "        textarea.select();\n",
       "\n",
       "        try {\n",
       "            return document.execCommand('copy'); // Security exception may be thrown by some browsers.\n",
       "        } catch (ex) {\n",
       "\n",
       "        } finally {\n",
       "            document.body.removeChild(textarea);\n",
       "        }\n",
       "    }\n",
       "}\n",
       "function expandPanel(el) {\n",
       "  const panelName = \"#\" + el.getAttribute('paneName');\n",
       "  console.log(el.title);\n",
       "\n",
       "  document.querySelector(panelName + \"-title\").innerHTML = el.title\n",
       "  iframe = document.querySelector(panelName + \"-body\");\n",
       "\n",
       "  const tblcss = `<style> body { font-family: Arial, Helvetica, sans-serif;}\n",
       "    #csv { margin-bottom: 15px; }\n",
       "    #csv table { border-collapse: collapse;}\n",
       "    #csv table td { padding: 4px 8px; border: 1px solid silver;} </style>`;\n",
       "\n",
       "  function csvToHtmlTable(str) {\n",
       "    return '<div id=\"csv\"><table><tr><td>' +  str.replace(/[\\n\\r]+$/g, '').replace(/[\\n\\r]+/g, '</td></tr><tr><td>')\n",
       "      .replace(/,/g, '</td><td>') + '</td></tr></table></div>';\n",
       "  }\n",
       "\n",
       "  function reqListener () {\n",
       "    if (el.title.endsWith(\".csv\")) {\n",
       "      iframe.setAttribute(\"srcdoc\", tblcss + csvToHtmlTable(this.responseText));\n",
       "    } else {\n",
       "      iframe.setAttribute(\"srcdoc\", this.responseText);\n",
       "    }\n",
       "    console.log(this.responseText);\n",
       "  }\n",
       "\n",
       "  const oReq = new XMLHttpRequest();\n",
       "  oReq.addEventListener(\"load\", reqListener);\n",
       "  oReq.open(\"GET\", el.title);\n",
       "  oReq.send();\n",
       "\n",
       "\n",
       "  //iframe.src = el.title;\n",
       "  const resultPane = document.querySelector(panelName + \"-pane\");\n",
       "  if (resultPane.classList.contains(\"hidden\")) {\n",
       "    resultPane.classList.remove(\"hidden\");\n",
       "  }\n",
       "}\n",
       "function closePanel(el) {\n",
       "  const panelName = \"#\" + el.getAttribute('paneName')\n",
       "  const resultPane = document.querySelector(panelName + \"-pane\");\n",
       "  if (!resultPane.classList.contains(\"hidden\")) {\n",
       "    resultPane.classList.add(\"hidden\");\n",
       "  }\n",
       "}\n",
       "\n",
       "</script>\n",
       "<div class=\"master-wrapper\">\n",
       "  <div class=\"block master-tbl\"><div>\n",
       "<style scoped>\n",
       "    .dataframe tbody tr th:only-of-type {\n",
       "        vertical-align: middle;\n",
       "    }\n",
       "\n",
       "    .dataframe tbody tr th {\n",
       "        vertical-align: top;\n",
       "    }\n",
       "\n",
       "    .dataframe thead th {\n",
       "        text-align: right;\n",
       "    }\n",
       "</style>\n",
       "<table border=\"1\" class=\"dataframe\">\n",
       "  <thead>\n",
       "    <tr style=\"text-align: right;\">\n",
       "      <th>project</th>\n",
       "      <th>uid</th>\n",
       "      <th>iter</th>\n",
       "      <th>start</th>\n",
       "      <th>state</th>\n",
       "      <th>name</th>\n",
       "      <th>labels</th>\n",
       "      <th>inputs</th>\n",
       "      <th>parameters</th>\n",
       "      <th>results</th>\n",
       "      <th>artifacts</th>\n",
       "    </tr>\n",
       "  </thead>\n",
       "  <tbody>\n",
       "    <tr>\n",
       "      <td>test-dask-s3</td>\n",
       "      <td><div title=\"d54bd286ea084c738263a8b0e32bb473\"><a href=\"https://dashboard.default-tenant.app.dev6.lab.iguazeng.com/mlprojects/test-dask-s3/jobs/monitor/d54bd286ea084c738263a8b0e32bb473/overview\" target=\"_blank\" >...e32bb473</a></div></td>\n",
       "      <td>0</td>\n",
       "      <td>Dec 23 15:12:14</td>\n",
       "      <td>completed</td>\n",
       "      <td>with_dask</td>\n",
       "      <td><div class=\"dictlist\">v3io_user=guyl</div><div class=\"dictlist\">kind=job</div><div class=\"dictlist\">owner=guyl</div><div class=\"dictlist\">mlrun/client_version=1.2.1-rc4</div><div class=\"dictlist\">host=with-dask-b99wb</div></td>\n",
       "      <td><div title=\"s3://testbucket-igz-temp/test-dask-s3/data/\">data_path</div></td>\n",
       "      <td><div class=\"dictlist\">dask_function=db://test-dask-s3/my-dask</div></td>\n",
       "      <td><div class=\"dictlist\">time=13.100464344024658</div><div class=\"dictlist\">result=50062.27446583847</div></td>\n",
       "      <td><div title=\"s3://testbucket-igz-temp/test-dask-s3/with_dask/0/means.parquet\">means</div></td>\n",
       "    </tr>\n",
       "  </tbody>\n",
       "</table>\n",
       "</div></div>\n",
       "  <div id=\"result12b083ed-pane\" class=\"right-pane block hidden\">\n",
       "    <div class=\"pane-header\">\n",
       "      <span id=\"result12b083ed-title\" class=\"pane-header-title\">Title</span>\n",
       "      <span onclick=\"closePanel(this)\" paneName=\"result12b083ed\" class=\"close clickable\">&times;</span>\n",
       "    </div>\n",
       "    <iframe class=\"fileview\" id=\"result12b083ed-body\"></iframe>\n",
       "  </div>\n",
       "</div>\n"
      ],
      "text/plain": [
       "<IPython.core.display.HTML object>"
      ]
     },
     "metadata": {},
     "output_type": "display_data"
    },
    {
     "name": "stdout",
     "output_type": "stream",
     "text": [
      "\n"
     ]
    },
    {
     "data": {
      "text/html": [
       "<b> > to track results use the .show() or .logs() methods  or <a href=\"https://dashboard.default-tenant.app.dev6.lab.iguazeng.com/mlprojects/test-dask-s3/jobs/monitor/d54bd286ea084c738263a8b0e32bb473/overview\" target=\"_blank\">click here</a> to open in UI</b>"
      ],
      "text/plain": [
       "<IPython.core.display.HTML object>"
      ]
     },
     "metadata": {},
     "output_type": "display_data"
    },
    {
     "name": "stdout",
     "output_type": "stream",
     "text": [
      "> 2022-12-23 15:12:36,147 [info] run executed, status=completed\n"
     ]
    }
   ],
   "source": [
    "# Run with dask:\n",
    "with_dask_run = process_data_function.run(\n",
    "    name=\"with_dask\",\n",
    "    inputs={\n",
    "        \"data_path\": f\"s3://{S3_BUCKET}/{S3_PROJECT_DIRECTORY}/data/\",\n",
    "    },\n",
    "    params={\n",
    "        \"dask_function\": \"db://\" + dask_function.uri,\n",
    "    },\n",
    "    artifact_path=f\"s3://{S3_BUCKET}/{S3_PROJECT_DIRECTORY}\",\n",
    ")\n",
    "\n",
    "# Store results:\n",
    "with_dask_time = with_dask_run.status.results['time']\n",
    "with_dask_result = with_dask_run.status.results['result']\n",
    "with_dask_means = np.array(with_dask_run.artifact('means').as_df()[\"0\"])"
   ]
  },
  {
   "cell_type": "markdown",
   "id": "5d0f8ae8",
   "metadata": {
    "pycharm": {
     "name": "#%% md\n"
    }
   },
   "source": [
    "## 6. Compare Runtimes\n",
    "\n",
    "1. Print a summary message.\n",
    "2. Verify that:\n",
    "  * The dask run took less time (only in stronger machines). \n",
    "  * The result value is almost equal between the runs.\n",
    "  * The means values are almost equal between the runs."
   ]
  },
  {
   "cell_type": "code",
   "execution_count": 16,
   "id": "3b5509a9",
   "metadata": {
    "pycharm": {
     "name": "#%%\n"
    }
   },
   "outputs": [
    {
     "data": {
      "application/vnd.jupyter.widget-view+json": {
       "model_id": "b23e5507d645498b842b59b6d13e2ef9",
       "version_major": 2,
       "version_minor": 0
      },
      "text/plain": [
       "Deleting:   0%|          | 0/12 [00:00<?, ?it/s]"
      ]
     },
     "metadata": {},
     "output_type": "display_data"
    },
    {
     "name": "stdout",
     "output_type": "stream",
     "text": [
      "Deleting 'test-dask-s3/data/year=2000/c3d2bcb360f643fbb04d072c6116c477.parquet'\n",
      "Deleting 'test-dask-s3/data/year=2001/b20e7a8fcb2849d98dca1770cbee75cc.parquet'\n",
      "Deleting 'test-dask-s3/data/year=2002/99ebbe2e64fd4ba2b6f29ca6cb0117ed.parquet'\n",
      "Deleting 'test-dask-s3/data/year=2003/fdab28f8921548a9aa25cea2b6b3599a.parquet'\n",
      "Deleting 'test-dask-s3/data/year=2004/539d16ae17904315a23f4794be3669a6.parquet'\n",
      "Deleting 'test-dask-s3/data/year=2005/f9f1ee96b1e04c78b6877bbd6f24f482.parquet'\n",
      "Deleting 'test-dask-s3/data/year=2006/7349725c0b114a6c8ba12b0c9399d52a.parquet'\n",
      "Deleting 'test-dask-s3/data/year=2007/b1e1fd12bb6248c3b1ffa39af4e45237.parquet'\n",
      "Deleting 'test-dask-s3/data/year=2008/29ff8d0aa94b40c28f3b61490d4a0526.parquet'\n",
      "Deleting 'test-dask-s3/data/year=2009/0d4d67f1d4994a96ad8318263bef69c2.parquet'\n",
      "Deleting 'test-dask-s3/with_dask/0/means.parquet'\n",
      "Deleting 'test-dask-s3/without_dask/0/means.parquet'\n",
      "Done!\n"
     ]
    }
   ],
   "source": [
    "# Delete the project and data in S3:\n",
    "s3_client.delete(\n",
    "    bucket=S3_BUCKET,\n",
    "    s3_path=S3_PROJECT_DIRECTORY,\n",
    ")"
   ]
  },
  {
   "cell_type": "code",
   "execution_count": 17,
   "id": "08edead1",
   "metadata": {
    "pycharm": {
     "name": "#%%\n"
    }
   },
   "outputs": [
    {
     "name": "stdout",
     "output_type": "stream",
     "text": [
      "Without dask:\n",
      "\t12.91 Seconds\n",
      "\tResult: 50062.27446583847\n",
      "With dask:\n",
      "\t13.10 Seconds\n",
      "\tResult: 50062.27446583847\n",
      "\n"
     ]
    }
   ],
   "source": [
    "# Print the test's collected results:\n",
    "print(\n",
    "    f\"Without dask:\\n\" \n",
    "    f\"\\t{'%.2f' % without_dask_time} Seconds\\n\"\n",
    "    f\"\\tResult: {without_dask_result}\"\n",
    ")\n",
    "print(\n",
    "    f\"With dask:\\n\"\n",
    "    f\"\\t{'%.2f' % with_dask_time} Seconds\\n\"\n",
    "    f\"\\tResult: {with_dask_result}\\n\"\n",
    ")\n",
    "\n",
    "# Verification:\n",
    "# assert with_dask_time < without_dask_time  # Only possible to test on a stronger machine (requires big data)\n",
    "assert np.isclose(without_dask_result, with_dask_result)\n",
    "assert np.allclose(without_dask_means, with_dask_means)"
   ]
  },
  {
   "cell_type": "code",
   "execution_count": null,
   "id": "aa788f2a",
   "metadata": {
    "pycharm": {
     "name": "#%%\n"
    }
   },
   "outputs": [],
   "source": []
  }
 ],
 "metadata": {
  "kernelspec": {
   "display_name": "Python 3",
   "language": "python",
   "name": "python3"
  },
  "language_info": {
   "codemirror_mode": {
    "name": "ipython",
    "version": 3
   },
   "file_extension": ".py",
   "mimetype": "text/x-python",
   "name": "python",
   "nbconvert_exporter": "python",
   "pygments_lexer": "ipython3",
   "version": "3.7.6"
  }
 },
 "nbformat": 4,
 "nbformat_minor": 5
}